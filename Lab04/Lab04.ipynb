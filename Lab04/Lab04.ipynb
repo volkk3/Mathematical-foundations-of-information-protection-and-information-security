{
 "cells": [
  {
   "cell_type": "code",
   "execution_count": 9,
   "metadata": {},
   "outputs": [],
   "source": [
    "# 1. Алгоритм Евклида"
   ]
  },
  {
   "cell_type": "code",
   "execution_count": 10,
   "metadata": {},
   "outputs": [
    {
     "name": "stdout",
     "output_type": "stream",
     "text": [
      "Введите число b больше 0: 45\n",
      "Введите число a больше или равно b: 60\n"
     ]
    }
   ],
   "source": [
    "b=int(input('Введите число b больше 0: '))\n",
    "a=int(input('Введите число a больше или равно b: '))"
   ]
  },
  {
   "cell_type": "code",
   "execution_count": 11,
   "metadata": {},
   "outputs": [],
   "source": [
    "r_i=[a,b]\n",
    "i=1"
   ]
  },
  {
   "cell_type": "code",
   "execution_count": 12,
   "metadata": {},
   "outputs": [],
   "source": [
    "while True:\n",
    "    r=r_i[i-1]%r_i[i]\n",
    "    if r==0:\n",
    "        d=r_i[i]\n",
    "        break\n",
    "    else:\n",
    "        i+=1\n",
    "        r_i.append(r)"
   ]
  },
  {
   "cell_type": "code",
   "execution_count": 13,
   "metadata": {},
   "outputs": [
    {
     "name": "stdout",
     "output_type": "stream",
     "text": [
      "a= 60 , b= 45 , НОД(a,b)= 15\n"
     ]
    }
   ],
   "source": [
    "print('a=',a,', b=',b,', НОД(a,b)=',d)"
   ]
  },
  {
   "cell_type": "code",
   "execution_count": 14,
   "metadata": {},
   "outputs": [],
   "source": [
    "# 2. Бинарный алгоритм Евклида"
   ]
  },
  {
   "cell_type": "code",
   "execution_count": 15,
   "metadata": {},
   "outputs": [
    {
     "name": "stdout",
     "output_type": "stream",
     "text": [
      "Введите число b больше 0: 45\n",
      "Введите число a больше или равно b: 60\n"
     ]
    }
   ],
   "source": [
    "b=int(input('Введите число b больше 0: '))\n",
    "a=int(input('Введите число a больше или равно b: '))"
   ]
  },
  {
   "cell_type": "code",
   "execution_count": 16,
   "metadata": {},
   "outputs": [],
   "source": [
    "A=a\n",
    "B=b\n",
    "g=1"
   ]
  },
  {
   "cell_type": "code",
   "execution_count": 17,
   "metadata": {},
   "outputs": [],
   "source": [
    "while (a % 2 == 0) and (b % 2 == 0):\n",
    "    a=a/2\n",
    "    b=b/2\n",
    "    g=2*g\n",
    "u=a\n",
    "v=b\n",
    "while u!=0:\n",
    "    while u%2 == 0:\n",
    "        u=u/2\n",
    "    while v%2 == 0:\n",
    "        v=v/2\n",
    "    if u>=v:\n",
    "        u=u-v\n",
    "    else:\n",
    "        v=v-u\n",
    "d=g*v"
   ]
  },
  {
   "cell_type": "code",
   "execution_count": 18,
   "metadata": {},
   "outputs": [
    {
     "name": "stdout",
     "output_type": "stream",
     "text": [
      "a= 60 , b= 45 , НОД(a,b)= 15.0\n"
     ]
    }
   ],
   "source": [
    "print('a=',A,', b=',B,', НОД(a,b)=',d)"
   ]
  },
  {
   "cell_type": "code",
   "execution_count": 19,
   "metadata": {},
   "outputs": [],
   "source": [
    "# 3. Расширенный алгоритм Евклида"
   ]
  },
  {
   "cell_type": "code",
   "execution_count": 20,
   "metadata": {},
   "outputs": [
    {
     "name": "stdout",
     "output_type": "stream",
     "text": [
      "Введите число b больше 0: 45\n",
      "Введите число a больше или равно b: 60\n"
     ]
    }
   ],
   "source": [
    "b=int(input('Введите число b больше 0: '))\n",
    "a=int(input('Введите число a больше или равно b: '))"
   ]
  },
  {
   "cell_type": "code",
   "execution_count": 21,
   "metadata": {},
   "outputs": [],
   "source": [
    "r=[a,b]\n",
    "x_i=[1,0]\n",
    "y_i=[0,1]\n",
    "i=1"
   ]
  },
  {
   "cell_type": "code",
   "execution_count": 22,
   "metadata": {},
   "outputs": [],
   "source": [
    "while True:\n",
    "    if r[i-1] % r[i] == 0:\n",
    "        d = r[i]\n",
    "        x = x_i[i]\n",
    "        y = y_i[i]\n",
    "        break\n",
    "    else:\n",
    "        q = r[i-1] // r[i]\n",
    "        x_i.append(x_i[i-1]-q*x_i[i])\n",
    "        y_i.append(y_i[i-1]-q*y_i[i])\n",
    "        r.append(r[i-1] % r[i])\n",
    "        i=i+1"
   ]
  },
  {
   "cell_type": "code",
   "execution_count": 23,
   "metadata": {},
   "outputs": [
    {
     "name": "stdout",
     "output_type": "stream",
     "text": [
      "a= 60 , b= 45 , НОД(a,b)= 15\n"
     ]
    }
   ],
   "source": [
    "print('a=',a,', b=',b,', НОД(a,b)=',d)"
   ]
  },
  {
   "cell_type": "code",
   "execution_count": 24,
   "metadata": {},
   "outputs": [],
   "source": [
    "# 4. Расширенный бинарный алгоритм Евклида"
   ]
  },
  {
   "cell_type": "code",
   "execution_count": 25,
   "metadata": {},
   "outputs": [
    {
     "name": "stdout",
     "output_type": "stream",
     "text": [
      "Введите число b больше 0: 45\n",
      "Введите число a больше или равно b: 60\n"
     ]
    }
   ],
   "source": [
    "b=int(input('Введите число b больше 0: '))\n",
    "a=int(input('Введите число a больше или равно b: '))"
   ]
  },
  {
   "cell_type": "code",
   "execution_count": 26,
   "metadata": {},
   "outputs": [],
   "source": [
    "g=1"
   ]
  },
  {
   "cell_type": "code",
   "execution_count": 27,
   "metadata": {},
   "outputs": [],
   "source": [
    "while a%2 == 0 and b%2 == 0:\n",
    "    a=a/2\n",
    "    b=b/2\n",
    "    g=2*g"
   ]
  },
  {
   "cell_type": "code",
   "execution_count": 28,
   "metadata": {},
   "outputs": [],
   "source": [
    "u=a\n",
    "v=b\n",
    "A=1\n",
    "B=0\n",
    "C=0\n",
    "D=1"
   ]
  },
  {
   "cell_type": "code",
   "execution_count": 29,
   "metadata": {},
   "outputs": [],
   "source": [
    "while u!=0:    \n",
    "    while u%2 == 0:\n",
    "        u=u/2\n",
    "        if A%2 == 0 and B%2 == 0:\n",
    "            A=A/2\n",
    "            B=B/2  \n",
    "        else:\n",
    "            A=(A+b)/2\n",
    "            B=(B-a)/2\n",
    "            \n",
    "    while v%2 == 0:\n",
    "        v=v/2\n",
    "        if C%2 == 0 and D%2 == 0:\n",
    "            C=C/2\n",
    "            D=D/2  \n",
    "        else:\n",
    "            C=(C+b)/2\n",
    "            D=(D-a)/2\n",
    "    if u>=v:\n",
    "        u=u-v\n",
    "        A=A-C\n",
    "        B=B-D\n",
    "    else:\n",
    "        v=v-u\n",
    "        C=C-A\n",
    "        D=D-B\n",
    "d=g*v\n",
    "x=C\n",
    "y=D    "
   ]
  },
  {
   "cell_type": "code",
   "execution_count": 30,
   "metadata": {},
   "outputs": [
    {
     "name": "stdout",
     "output_type": "stream",
     "text": [
      "НОД(a,b)= 15.0\n"
     ]
    }
   ],
   "source": [
    "print('НОД(a,b)=',d)"
   ]
  },
  {
   "cell_type": "code",
   "execution_count": null,
   "metadata": {},
   "outputs": [],
   "source": []
  }
 ],
 "metadata": {
  "kernelspec": {
   "display_name": "Python 3",
   "language": "python",
   "name": "python3"
  },
  "language_info": {
   "codemirror_mode": {
    "name": "ipython",
    "version": 3
   },
   "file_extension": ".py",
   "mimetype": "text/x-python",
   "name": "python",
   "nbconvert_exporter": "python",
   "pygments_lexer": "ipython3",
   "version": "3.7.6"
  }
 },
 "nbformat": 4,
 "nbformat_minor": 4
}
