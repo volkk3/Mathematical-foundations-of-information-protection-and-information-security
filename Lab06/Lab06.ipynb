{
 "cells": [
  {
   "cell_type": "code",
   "execution_count": 1,
   "metadata": {},
   "outputs": [],
   "source": [
    "# р-метод Полларда"
   ]
  },
  {
   "cell_type": "code",
   "execution_count": null,
   "metadata": {},
   "outputs": [],
   "source": [
    "from math import gcd"
   ]
  },
  {
   "cell_type": "code",
   "execution_count": 2,
   "metadata": {},
   "outputs": [],
   "source": [
    "ag = 1\n",
    "bg = 1"
   ]
  },
  {
   "cell_type": "code",
   "execution_count": 3,
   "metadata": {},
   "outputs": [],
   "source": [
    "def f(x, n):\n",
    "    return (x*x+5)%n"
   ]
  },
  {
   "cell_type": "code",
   "execution_count": 4,
   "metadata": {},
   "outputs": [],
   "source": [
    "def method(n, a, b, d):\n",
    "    a = f(a, n)%n\n",
    "    b = f(f(b,n), n)%n\n",
    "    d = gcd(a-b, n)\n",
    "    if 1 < d < n:\n",
    "        p = d\n",
    "        print(p)\n",
    "        exit()\n",
    "    if d == n:\n",
    "        print(\"Делитель не найден\")\n",
    "    if d == 1:\n",
    "        global ag\n",
    "        ag = b\n",
    "        method(n, a, b, d)"
   ]
  },
  {
   "cell_type": "code",
   "execution_count": 5,
   "metadata": {},
   "outputs": [],
   "source": [
    "def main():\n",
    "    n = 1359331\n",
    "    c = 1\n",
    "    a = c\n",
    "    b = c\n",
    "    a = f(a, n)%n\n",
    "    b = f(a, n)%n\n",
    "    d = gcd(a-b, n)\n",
    "    if 1 < d < n:\n",
    "        p = d\n",
    "        print(p)\n",
    "        exit()\n",
    "    if d == n:\n",
    "        pass\n",
    "    if d == 1:\n",
    "        method(n, a, b, d)"
   ]
  },
  {
   "cell_type": "code",
   "execution_count": 6,
   "metadata": {},
   "outputs": [
    {
     "name": "stdout",
     "output_type": "stream",
     "text": [
      "1181\n"
     ]
    }
   ],
   "source": [
    "main()"
   ]
  },
  {
   "cell_type": "code",
   "execution_count": null,
   "metadata": {},
   "outputs": [],
   "source": []
  }
 ],
 "metadata": {
  "kernelspec": {
   "display_name": "Python 3",
   "language": "python",
   "name": "python3"
  },
  "language_info": {
   "codemirror_mode": {
    "name": "ipython",
    "version": 3
   },
   "file_extension": ".py",
   "mimetype": "text/x-python",
   "name": "python",
   "nbconvert_exporter": "python",
   "pygments_lexer": "ipython3",
   "version": "3.7.6"
  }
 },
 "nbformat": 4,
 "nbformat_minor": 4
}
