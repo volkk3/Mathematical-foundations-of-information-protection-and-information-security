{
 "cells": [
  {
   "cell_type": "code",
   "execution_count": 21,
   "metadata": {},
   "outputs": [],
   "source": [
    "# Маршрутное шифрование"
   ]
  },
  {
   "cell_type": "code",
   "execution_count": 22,
   "metadata": {},
   "outputs": [
    {
     "name": "stdout",
     "output_type": "stream",
     "text": [
      "Введите строку: нельзя недооценивать противника\n",
      "Введите пароль: пароль\n"
     ]
    }
   ],
   "source": [
    "message = input('Введите строку: ').lower()\n",
    "password = str(input('Введите пароль: ')).lower()"
   ]
  },
  {
   "cell_type": "code",
   "execution_count": 23,
   "metadata": {},
   "outputs": [],
   "source": [
    "message=''.join(message.split())"
   ]
  },
  {
   "cell_type": "code",
   "execution_count": 24,
   "metadata": {},
   "outputs": [],
   "source": [
    "n = len(password)\n",
    "m=len(message)"
   ]
  },
  {
   "cell_type": "code",
   "execution_count": 25,
   "metadata": {},
   "outputs": [],
   "source": [
    "message += 'a'*(n-m%n)"
   ]
  },
  {
   "cell_type": "code",
   "execution_count": 26,
   "metadata": {},
   "outputs": [],
   "source": [
    "password_sort = ''.join(sorted(password))\n",
    "index_list = []\n",
    "for i in range (n):\n",
    "    f_index = password.find(password_sort[i])\n",
    "    index_list.append(f_index)"
   ]
  },
  {
   "cell_type": "code",
   "execution_count": 27,
   "metadata": {},
   "outputs": [],
   "source": [
    "encrypted = ''\n",
    "for i in index_list:\n",
    "    for j in range(m//n):\n",
    "        encrypted += message[j*n+i]"
   ]
  },
  {
   "cell_type": "code",
   "execution_count": 28,
   "metadata": {},
   "outputs": [
    {
     "name": "stdout",
     "output_type": "stream",
     "text": [
      "Криптограмма:  еенпзоатьовоннеьлдиряцти\n"
     ]
    }
   ],
   "source": [
    "print(\"Криптограмма: \",encrypted)"
   ]
  },
  {
   "cell_type": "code",
   "execution_count": 9,
   "metadata": {},
   "outputs": [],
   "source": [
    "# Таблица Вижинера"
   ]
  },
  {
   "cell_type": "code",
   "execution_count": 10,
   "metadata": {},
   "outputs": [],
   "source": [
    "alphabet = 'абвгдежзийклмнопрстуфхцчшщьыэюя'"
   ]
  },
  {
   "cell_type": "code",
   "execution_count": 11,
   "metadata": {},
   "outputs": [
    {
     "name": "stdout",
     "output_type": "stream",
     "text": [
      "Введите строку: криптография серьезная наука\n",
      "Введите пароль: математика\n"
     ]
    }
   ],
   "source": [
    "message = input('Введите строку: ').lower()\n",
    "password = str(input('Введите пароль: ')).lower()"
   ]
  },
  {
   "cell_type": "code",
   "execution_count": 12,
   "metadata": {},
   "outputs": [],
   "source": [
    "message=''.join(message.split())"
   ]
  },
  {
   "cell_type": "code",
   "execution_count": 13,
   "metadata": {},
   "outputs": [],
   "source": [
    "n = len(password)\n",
    "m=len(message)\n",
    "k = (m % n)"
   ]
  },
  {
   "cell_type": "code",
   "execution_count": 14,
   "metadata": {},
   "outputs": [
    {
     "name": "stdout",
     "output_type": "stream",
     "text": [
      "криптографиясерьезнаянаука\n",
      "математикаматематикаматема\n"
     ]
    }
   ],
   "source": [
    "password_len = '' + password * (m // n) + password[:k]\n",
    "print(message, password_len, sep='\\n')"
   ]
  },
  {
   "cell_type": "code",
   "execution_count": 15,
   "metadata": {},
   "outputs": [],
   "source": [
    "shifr_visinera = []\n",
    "slovar_i = 'абвгдежзийклмнопрстуфхцчшщьыэюя'"
   ]
  },
  {
   "cell_type": "code",
   "execution_count": 16,
   "metadata": {},
   "outputs": [],
   "source": [
    "import numpy as np"
   ]
  },
  {
   "cell_type": "code",
   "execution_count": 17,
   "metadata": {},
   "outputs": [
    {
     "name": "stdout",
     "output_type": "stream",
     "text": [
      "Квадрат вижинера: [['абвгдежзийклмнопрстуфхцчшщьыэюя']\n",
      " ['бвгдежзийклмнопрстуфхцчшщьыэюяа']\n",
      " ['вгдежзийклмнопрстуфхцчшщьыэюяаб']\n",
      " ['гдежзийклмнопрстуфхцчшщьыэюяабв']\n",
      " ['дежзийклмнопрстуфхцчшщьыэюяабвг']\n",
      " ['ежзийклмнопрстуфхцчшщьыэюяабвгд']\n",
      " ['жзийклмнопрстуфхцчшщьыэюяабвгде']\n",
      " ['зийклмнопрстуфхцчшщьыэюяабвгдеж']\n",
      " ['ийклмнопрстуфхцчшщьыэюяабвгдежз']\n",
      " ['йклмнопрстуфхцчшщьыэюяабвгдежзи']\n",
      " ['клмнопрстуфхцчшщьыэюяабвгдежзий']\n",
      " ['лмнопрстуфхцчшщьыэюяабвгдежзийк']\n",
      " ['мнопрстуфхцчшщьыэюяабвгдежзийкл']\n",
      " ['нопрстуфхцчшщьыэюяабвгдежзийклм']\n",
      " ['опрстуфхцчшщьыэюяабвгдежзийклмн']\n",
      " ['прстуфхцчшщьыэюяабвгдежзийклмно']\n",
      " ['рстуфхцчшщьыэюяабвгдежзийклмноп']\n",
      " ['стуфхцчшщьыэюяабвгдежзийклмнопр']\n",
      " ['туфхцчшщьыэюяабвгдежзийклмнопрс']\n",
      " ['уфхцчшщьыэюяабвгдежзийклмнопрст']\n",
      " ['фхцчшщьыэюяабвгдежзийклмнопрсту']\n",
      " ['хцчшщьыэюяабвгдежзийклмнопрстуф']\n",
      " ['цчшщьыэюяабвгдежзийклмнопрстуфх']\n",
      " ['чшщьыэюяабвгдежзийклмнопрстуфхц']\n",
      " ['шщьыэюяабвгдежзийклмнопрстуфхцч']\n",
      " ['щьыэюяабвгдежзийклмнопрстуфхцчш']\n",
      " ['ьыэюяабвгдежзийклмнопрстуфхцчшщ']\n",
      " ['ыэюяабвгдежзийклмнопрстуфхцчшщь']\n",
      " ['эюяабвгдежзийклмнопрстуфхцчшщьы']\n",
      " ['юяабвгдежзийклмнопрстуфхцчшщьыэ']\n",
      " ['яабвгдежзийклмнопрстуфхцчшщьыэю']]\n"
     ]
    }
   ],
   "source": [
    "for i in range(len(alphabet)):\n",
    "    shifr_visinera.append(slovar_i)\n",
    "    new = slovar_i[1:] + slovar_i[0]\n",
    "    slovar_i = new\n",
    "shifr_visinera=np.array(shifr_visinera)\n",
    "print(\"Квадрат вижинера:\", shifr_visinera.reshape(31,1))"
   ]
  },
  {
   "cell_type": "code",
   "execution_count": 18,
   "metadata": {},
   "outputs": [],
   "source": [
    "encrypted = ''"
   ]
  },
  {
   "cell_type": "code",
   "execution_count": 19,
   "metadata": {},
   "outputs": [],
   "source": [
    "for i in range(m):\n",
    "    f_index1 = alphabet.find(message[i])\n",
    "    f_index2 = alphabet.find(password_len[i])\n",
    "    encrypted += shifr_visinera[f_index1][f_index2]"
   ]
  },
  {
   "cell_type": "code",
   "execution_count": 20,
   "metadata": {},
   "outputs": [
    {
     "name": "stdout",
     "output_type": "stream",
     "text": [
      "Криптограмма: црьфяохшкффядкэьчпчалнтшца\n"
     ]
    }
   ],
   "source": [
    "print('Криптограмма:', encrypted)"
   ]
  },
  {
   "cell_type": "code",
   "execution_count": null,
   "metadata": {},
   "outputs": [],
   "source": []
  }
 ],
 "metadata": {
  "kernelspec": {
   "display_name": "Python 3",
   "language": "python",
   "name": "python3"
  },
  "language_info": {
   "codemirror_mode": {
    "name": "ipython",
    "version": 3
   },
   "file_extension": ".py",
   "mimetype": "text/x-python",
   "name": "python",
   "nbconvert_exporter": "python",
   "pygments_lexer": "ipython3",
   "version": "3.7.6"
  }
 },
 "nbformat": 4,
 "nbformat_minor": 4
}
