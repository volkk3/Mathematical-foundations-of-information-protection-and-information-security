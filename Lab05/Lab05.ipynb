{
 "cells": [
  {
   "cell_type": "code",
   "execution_count": null,
   "metadata": {},
   "outputs": [],
   "source": [
    "# 1. Тест Ферма"
   ]
  },
  {
   "cell_type": "code",
   "execution_count": 18,
   "metadata": {},
   "outputs": [
    {
     "name": "stdout",
     "output_type": "stream",
     "text": [
      "Введите нечетное число n больше или равно 5: 21\n"
     ]
    }
   ],
   "source": [
    "n=int(input('Введите нечетное число n больше или равно 5: '))"
   ]
  },
  {
   "cell_type": "code",
   "execution_count": 19,
   "metadata": {},
   "outputs": [],
   "source": [
    "import random"
   ]
  },
  {
   "cell_type": "code",
   "execution_count": 20,
   "metadata": {},
   "outputs": [],
   "source": [
    "a=random.randint(2, n-2)"
   ]
  },
  {
   "cell_type": "code",
   "execution_count": 21,
   "metadata": {},
   "outputs": [],
   "source": [
    "r=(a**(n-1))%n"
   ]
  },
  {
   "cell_type": "code",
   "execution_count": 22,
   "metadata": {},
   "outputs": [
    {
     "name": "stdout",
     "output_type": "stream",
     "text": [
      "Число n = 21 составное\n"
     ]
    }
   ],
   "source": [
    "if r==1:\n",
    "    print('Число n =', n, ', вероятно, простое')\n",
    "else:\n",
    "    print('Число n =', n, 'составное')"
   ]
  },
  {
   "cell_type": "code",
   "execution_count": null,
   "metadata": {},
   "outputs": [],
   "source": [
    "# 2. Символ Якоби"
   ]
  },
  {
   "cell_type": "code",
   "execution_count": 47,
   "metadata": {},
   "outputs": [
    {
     "name": "stdout",
     "output_type": "stream",
     "text": [
      "Введите нечетное число n больше или равно 3: 15\n",
      "Введите число a больше или равно 0 и меньше n: 7\n"
     ]
    }
   ],
   "source": [
    "n=int(input('Введите нечетное число n больше или равно 3: '))\n",
    "a=int(input('Введите число a больше или равно 0 и меньше n: '))"
   ]
  },
  {
   "cell_type": "code",
   "execution_count": 48,
   "metadata": {},
   "outputs": [],
   "source": [
    "def jacobi(n,a):\n",
    "    g=1\n",
    "    while True:\n",
    "        if a == 0:\n",
    "            return 0\n",
    "        if a == 1:\n",
    "            return g\n",
    "        else:\n",
    "            k=0 \n",
    "            a1=a\n",
    "            while a1%2 == 0:\n",
    "                k+=1\n",
    "                a1//=2\n",
    "            if k%2==0:\n",
    "                s=1\n",
    "            else:\n",
    "                if abs(n%8)==1:\n",
    "                    s=1\n",
    "                else:\n",
    "                    s=-1\n",
    "            if a1==1:\n",
    "                return g*s\n",
    "            if n%4==3 and a1%4 == 3:\n",
    "                s*=-1\n",
    "            a = n%a1\n",
    "            n = a1\n",
    "            g = g*s"
   ]
  },
  {
   "cell_type": "code",
   "execution_count": 49,
   "metadata": {},
   "outputs": [
    {
     "name": "stdout",
     "output_type": "stream",
     "text": [
      "Символ Якоби= -1\n"
     ]
    }
   ],
   "source": [
    "print('Символ Якоби=', jacobi(n,a))"
   ]
  },
  {
   "cell_type": "code",
   "execution_count": null,
   "metadata": {},
   "outputs": [],
   "source": [
    "# 3. Тест Соловэя-Штрассена"
   ]
  },
  {
   "cell_type": "code",
   "execution_count": null,
   "metadata": {},
   "outputs": [],
   "source": [
    "n=int(input('Введите нечетное число n больше или равно 5: '))"
   ]
  },
  {
   "cell_type": "code",
   "execution_count": 59,
   "metadata": {},
   "outputs": [],
   "source": [
    "a=random.randint(2, n-2)"
   ]
  },
  {
   "cell_type": "code",
   "execution_count": 60,
   "metadata": {},
   "outputs": [],
   "source": [
    "r=(a**((n-1)/2))%n"
   ]
  },
  {
   "cell_type": "code",
   "execution_count": 61,
   "metadata": {},
   "outputs": [
    {
     "name": "stdout",
     "output_type": "stream",
     "text": [
      "Число n = 25 составное\n"
     ]
    }
   ],
   "source": [
    "if r!=1 and r!=n-1:\n",
    "    print('Число n =', n, 'составное')\n",
    "s=jacobi(n,a)\n",
    "if s==r%n:\n",
    "    print('Число n =', n, 'составное')\n",
    "else:\n",
    "    print('Число n =', n, ', вероятно, простое')"
   ]
  },
  {
   "cell_type": "code",
   "execution_count": null,
   "metadata": {},
   "outputs": [],
   "source": [
    "# 4. Тест Миллера-Рабина"
   ]
  },
  {
   "cell_type": "code",
   "execution_count": 36,
   "metadata": {},
   "outputs": [
    {
     "name": "stdout",
     "output_type": "stream",
     "text": [
      "Введите нечетное число n больше или равно 5: 27\n"
     ]
    }
   ],
   "source": [
    "n=int(input('Введите нечетное число n больше или равно 5: '))"
   ]
  },
  {
   "cell_type": "code",
   "execution_count": 37,
   "metadata": {},
   "outputs": [],
   "source": [
    "s=0 \n",
    "r=n-1\n",
    "while r%2 == 0:\n",
    "    s+=1\n",
    "    r//=2"
   ]
  },
  {
   "cell_type": "code",
   "execution_count": 38,
   "metadata": {},
   "outputs": [],
   "source": [
    "a=random.randint(2, n-2)"
   ]
  },
  {
   "cell_type": "code",
   "execution_count": 39,
   "metadata": {},
   "outputs": [],
   "source": [
    "y = (a**r)%n"
   ]
  },
  {
   "cell_type": "code",
   "execution_count": 40,
   "metadata": {},
   "outputs": [
    {
     "name": "stdout",
     "output_type": "stream",
     "text": [
      "Число n = 27 составное\n"
     ]
    }
   ],
   "source": [
    "if y!=1 and y != n-1:\n",
    "    j=1\n",
    "    if j<=s-1 and y!=n-1:\n",
    "        y = (y**2)%n\n",
    "        if y==1:\n",
    "            print('Число n =', n, 'составное')\n",
    "        j+=1\n",
    "    if y!=n-1:\n",
    "        print('Число n =', n, 'составное')\n",
    "else:\n",
    "    print('Число n =', n, ', вероятно, простое')"
   ]
  },
  {
   "cell_type": "code",
   "execution_count": null,
   "metadata": {},
   "outputs": [],
   "source": []
  }
 ],
 "metadata": {
  "kernelspec": {
   "display_name": "Python 3",
   "language": "python",
   "name": "python3"
  },
  "language_info": {
   "codemirror_mode": {
    "name": "ipython",
    "version": 3
   },
   "file_extension": ".py",
   "mimetype": "text/x-python",
   "name": "python",
   "nbconvert_exporter": "python",
   "pygments_lexer": "ipython3",
   "version": "3.7.6"
  }
 },
 "nbformat": 4,
 "nbformat_minor": 4
}
